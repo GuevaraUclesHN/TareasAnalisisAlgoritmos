{
  "nbformat": 4,
  "nbformat_minor": 0,
  "metadata": {
    "colab": {
      "name": "Tarea2.ipynb",
      "provenance": [],
      "authorship_tag": "ABX9TyPCA+LagtXrh2BXFteooGwy",
      "include_colab_link": true
    },
    "kernelspec": {
      "name": "python3",
      "display_name": "Python 3"
    }
  },
  "cells": [
    {
      "cell_type": "markdown",
      "metadata": {
        "id": "view-in-github",
        "colab_type": "text"
      },
      "source": [
        "<a href=\"https://colab.research.google.com/github/GuevaraUclesHN/TareasAnalisisAlgoritmos/blob/main/Tarea2.ipynb\" target=\"_parent\"><img src=\"https://colab.research.google.com/assets/colab-badge.svg\" alt=\"Open In Colab\"/></a>"
      ]
    },
    {
      "cell_type": "code",
      "metadata": {
        "id": "y7MpKXIP1lVv"
      },
      "source": [
        "## Binary Search\n",
        "def binarySearch (arr, l, r, x): \n",
        "  \n",
        "    if r >= l: \n",
        "  \n",
        "        mid = l + (r - l) // 2\n",
        "        if arr[mid] == x: \n",
        "            return mid \n",
        "\n",
        "        elif arr[mid] > x: \n",
        "            return binarySearch(arr, l, mid-1, x) \n",
        "  \n",
        "        else: \n",
        "            return binarySearch(arr, mid + 1, r, x) \n",
        "  \n",
        "    else: \n",
        "        return -1\n",
        "  \n",
        "arr = [ 2, 3, 4, 10, 40 ] \n",
        "x = 10\n",
        "  \n",
        "result = binarySearch(arr, 0, len(arr)-1, x) \n",
        "  \n",
        "if result != -1: \n",
        "    print (\"Elemento encontrado en la posicion:  % d\" % result) \n",
        "else: \n",
        "    print (\"Elemento inexistente!\")"
      ],
      "execution_count": null,
      "outputs": []
    },
    {
      "cell_type": "code",
      "metadata": {
        "id": "4TkQhKuM18dZ"
      },
      "source": [
        "## Merge-Sort \n",
        "def merge(arr, l, m, r): \n",
        "    n1 = m - l + 1\n",
        "    n2 = r- m \n",
        "  \n",
        "    L = [0] * (n1) \n",
        "    R = [0] * (n2) \n",
        "  \n",
        "    for i in range(0 , n1): \n",
        "        L[i] = arr[l + i] \n",
        "  \n",
        "    for j in range(0 , n2): \n",
        "        R[j] = arr[m + 1 + j] \n",
        "  \n",
        "    i = 0     \n",
        "    j = 0     \n",
        "    k = l     \n",
        "  \n",
        "    while i < n1 and j < n2 : \n",
        "        if L[i] <= R[j]: \n",
        "            arr[k] = L[i] \n",
        "            i += 1\n",
        "        else: \n",
        "            arr[k] = R[j] \n",
        "            j += 1\n",
        "        k += 1\n",
        "  \n",
        "    while i < n1: \n",
        "        arr[k] = L[i] \n",
        "        i += 1\n",
        "        k += 1\n",
        "  \n",
        "    while j < n2: \n",
        "        arr[k] = R[j] \n",
        "        j += 1\n",
        "        k += 1\n",
        "  \n",
        "def mergeSort(arr,l,r): \n",
        "    if l < r: \n",
        "  \n",
        "        m = (l+(r-1))//2\n",
        "        mergeSort(arr, l, m) \n",
        "        mergeSort(arr, m+1, r) \n",
        "        merge(arr, l, m, r) \n",
        "  \n",
        "arr = [12, 11, 13, 5, 6, 7] \n",
        "n = len(arr) \n",
        "print (\"El arreglo desordenado: \") \n",
        "for i in range(n): \n",
        "    print (\"%d\" %arr[i]), \n",
        "  \n",
        "mergeSort(arr,0,n-1) \n",
        "print (\"\\n\\nArreglo ordenado: \") \n",
        "for i in range(n): \n",
        "    print (\"%d\" %arr[i]),"
      ],
      "execution_count": null,
      "outputs": []
    },
    {
      "cell_type": "code",
      "metadata": {
        "id": "q6Dvtku61_0V"
      },
      "source": [
        "## Max Point Algorithm\n",
        "def maxCrossingSum(arr, l, m, h) : \n",
        "      \n",
        "    sm = 0; left_sum = -10000\n",
        "      \n",
        "    for i in range(m, l-1, -1) : \n",
        "        sm = sm + arr[i] \n",
        "          \n",
        "        if (sm > left_sum) : \n",
        "            left_sum = sm \n",
        "      \n",
        "    sm = 0; right_sum = -1000\n",
        "    for i in range(m + 1, h + 1) : \n",
        "        sm = sm + arr[i] \n",
        "          \n",
        "        if (sm > right_sum) : \n",
        "            right_sum = sm \n",
        "      \n",
        "    return max(left_sum + right_sum, left_sum, right_sum) \n",
        "  \n",
        "def maxSubArraySum(arr, l, h) : \n",
        "      \n",
        "    if (l == h) : \n",
        "        return arr[l] \n",
        "  \n",
        "    m = (l + h) // 2\n",
        "\n",
        "    return max(maxSubArraySum(arr, l, m), \n",
        "               maxSubArraySum(arr, m+1, h), \n",
        "               maxCrossingSum(arr, l, m, h)) \n",
        "              \n",
        "arr = [2, 3, 4, 5, 7] \n",
        "n = len(arr) \n",
        "  \n",
        "max_sum = maxSubArraySum(arr, 0, n-1) \n",
        "print(\"Punto maximo \", max_sum)"
      ],
      "execution_count": null,
      "outputs": []
    }
  ]
}
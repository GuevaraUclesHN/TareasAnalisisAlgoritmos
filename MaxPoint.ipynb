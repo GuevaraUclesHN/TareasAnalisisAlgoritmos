{
  "nbformat": 4,
  "nbformat_minor": 0,
  "metadata": {
    "colab": {
      "name": "MaxPoint.ipynb",
      "provenance": [],
      "authorship_tag": "ABX9TyOSjXTKNZhVdVVrznKd7Ild",
      "include_colab_link": true
    },
    "kernelspec": {
      "name": "python3",
      "display_name": "Python 3"
    }
  },
  "cells": [
    {
      "cell_type": "markdown",
      "metadata": {
        "id": "view-in-github",
        "colab_type": "text"
      },
      "source": [
        "<a href=\"https://colab.research.google.com/github/GuevaraUclesHN/TareasAnalisisAlgoritmos/blob/main/MaxPoint.ipynb\" target=\"_parent\"><img src=\"https://colab.research.google.com/assets/colab-badge.svg\" alt=\"Open In Colab\"/></a>"
      ]
    },
    {
      "cell_type": "code",
      "metadata": {
        "id": "BW8WIcRd2Wc6"
      },
      "source": [
        "import math as m\n",
        "\n",
        "puntos = [[10,20],[15,30],[2,4],[8,16],[7,14],[6,12],[4,8],[12,24]]\n",
        "    \n",
        "def main():\n",
        "    min(puntos)\n",
        "\n",
        "def cantidad(x, y):\n",
        "    doubleX= (x[0]-y[0])**2\n",
        "    doubleY= (x[1]-y[1])**2\n",
        "    resultado = m.sqrt((doubleX+doubleY))\n",
        "    return resultado\n",
        "\n",
        "\n",
        "def min(arreglo):\n",
        "    inicio= True\n",
        "    min=0\n",
        "    max=0\n",
        "    par=[]\n",
        "    par2=[]\n",
        "    for x in range(len(puntos)):\n",
        "        for y in range(x+1,len(puntos)):\n",
        "            n= cantidad(arreglo[x],arreglo[y])\n",
        "            if inicio:\n",
        "                inicio=False\n",
        "                par.append(arreglo[x])\n",
        "                par.append(arreglo[y])\n",
        "                par2.append(arreglo[x])\n",
        "                par2.append(arreglo[y])\n",
        "                min=n\n",
        "                max=n\n",
        "            else:\n",
        "                if n < min:\n",
        "                    par.clear()\n",
        "                    par.append(arreglo[x])\n",
        "                    par.append(arreglo[y])\n",
        "                    min=0\n",
        "                    min=n\n",
        "                if n > max:\n",
        "                    par2.clear()\n",
        "                    par2.append(arreglo[x])\n",
        "                    par2.append(arreglo[y])\n",
        "                    max=0\n",
        "                    max=n\n",
        "    \n",
        "    print(\"La distancia menor entre 2 puntos es \",min,\" los puntos son \",par)\n",
        "    print(\"La distancia maxima entre 2 puntos es \",max,\" los puntos son \",par2)\n",
        "    \n",
        "main()"
      ],
      "execution_count": null,
      "outputs": []
    }
  ]
}
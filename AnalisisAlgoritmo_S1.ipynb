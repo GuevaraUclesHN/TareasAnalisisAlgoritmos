{
  "nbformat": 4,
  "nbformat_minor": 0,
  "metadata": {
    "colab": {
      "name": "AnalisisAlgoritmo-S1.ipynb",
      "provenance": [],
      "collapsed_sections": [],
      "include_colab_link": true
    },
    "kernelspec": {
      "name": "python3",
      "display_name": "Python 3"
    }
  },
  "cells": [
    {
      "cell_type": "markdown",
      "metadata": {
        "id": "view-in-github",
        "colab_type": "text"
      },
      "source": [
        "<a href=\"https://colab.research.google.com/github/GuevaraUclesHN/TareasAnalisisAlgoritmos/blob/main/AnalisisAlgoritmo_S1.ipynb\" target=\"_parent\"><img src=\"https://colab.research.google.com/assets/colab-badge.svg\" alt=\"Open In Colab\"/></a>"
      ]
    },
    {
      "cell_type": "code",
      "metadata": {
        "id": "Zzl92qZztV3a"
      },
      "source": [
        "#   Bubble Sort Algorithm\n",
        "\n",
        "import random\n",
        "\n",
        "def bubbleSort(num):\n",
        "    \n",
        "    randomList = []\n",
        "    #Rango de numeros de 1-N\n",
        "    for i in range(1,num):\n",
        "        #Numeros que genera\n",
        "        n = random.randint(1,1000)\n",
        "        randomList.append(n)\n",
        "\n",
        "    print(\"Numeros generados: \\n\",randomList)\n",
        "\n",
        "    n = len(randomList)\n",
        "    #Logica del algoritmo\n",
        "    for i in range(n-1):\n",
        "      for j in range(0, n-i-1):\n",
        "\n",
        "        #Comparo la posicion actual con la siguiente\n",
        "        if(randomList[j] > randomList[j+1]):\n",
        "          randomList[j], randomList[j+1] = randomList[j+1], randomList[j]\n",
        "\n",
        "    print(\"Lista ordenada: \\n\", randomList)\n",
        "    pass\n",
        "\n",
        "def main():\n",
        "\n",
        "    print(\"Bienvenido al algoritmo Bubble Sort\")\n",
        "    rangoMax = int(input(\"Ingresa el rango maximo de numeros: \"))\n",
        "    \n",
        "    bubbleSort(rangoMax)\n",
        "\n",
        "    pass\n",
        "\n",
        "main()\n"
      ],
      "execution_count": null,
      "outputs": []
    },
    {
      "cell_type": "code",
      "metadata": {
        "id": "ZgYGthwkwWTo"
      },
      "source": [
        "#   Fibonacci Iterativo\n",
        "print(\"Bienvenido al algoritmo Fibonacci Iterativo\" )\n",
        "inpt = int(input(\"Ingrese numero: \"))\n",
        "a = 0\n",
        "b = 1\n",
        "sum = 0\n",
        "count = 0\n",
        "while(count <= inpt):\n",
        "  print(sum)\n",
        "  count += 1\n",
        "  a = b\n",
        "  b = sum\n",
        "  sum = a + b\n"
      ],
      "execution_count": null,
      "outputs": []
    },
    {
      "cell_type": "code",
      "metadata": {
        "id": "SOojPkMFwYqw"
      },
      "source": [
        "#   Fibonacci Recursivo\n",
        "\n",
        "print(\"Bienvenido al algoritmo Fibonacci Iterativo\" )\n",
        "n = int(input(\"Ingrese numero: \"))\n",
        "\n",
        "def fib(n):\n",
        "  sucesion = []\n",
        "  if n == 0:\n",
        "    sucesion.append(0)\n",
        "  elif n == 1:\n",
        "    sucesion.append(1)\n",
        "  else:\n",
        "    res1 = fib(n-1)\n",
        "    res2 = fib(n-2)\n",
        "    res3 = res1+ res2\n",
        "    sucesion.append(res3)\n",
        "    print(sucesion)\n",
        "\n",
        "fib(n)\n"
      ],
      "execution_count": null,
      "outputs": []
    },
    {
      "cell_type": "code",
      "metadata": {
        "id": "794vXd34AGqw"
      },
      "source": [
        "#  Insertion Sort Algorithm\n",
        "\n",
        "import random\n",
        "\n",
        "def bubbleSort(num):\n",
        "    \n",
        "    randomList = []\n",
        "    #Rango de numeros de 1-N\n",
        "    for i in range(1,num):\n",
        "        #Numeros que genera\n",
        "        n = random.randint(1,1000)\n",
        "        randomList.append(n)\n",
        "\n",
        "    print(\"Numeros generados: \\n\",randomList)\n",
        "\n",
        "    n = len(randomList)\n",
        "    for i in range(n-1):\n",
        "      for j in range(i, 0, -1):\n",
        "          if (randomList[j] < randomList[j-1]):\n",
        "            randomList[j], randomList[j-1] = randomList[j-1], randomList[j]\n",
        "          else:\n",
        "            break\n",
        "\n",
        "    print(\"Lista ordenada: \\n\", randomList)\n",
        "    pass\n",
        "\n",
        "def main():\n",
        "\n",
        "    print(\"Bienvenido al algoritmo Bubble Sort\")\n",
        "    rangoMax = int(input(\"Ingresa el rango maximo de numeros: \"))\n",
        "    \n",
        "    bubbleSort(rangoMax)\n",
        "\n",
        "    pass\n",
        "\n",
        "main()\n"
      ],
      "execution_count": null,
      "outputs": []
    }
  ]
}